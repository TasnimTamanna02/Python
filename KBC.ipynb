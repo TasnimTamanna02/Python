{
  "nbformat": 4,
  "nbformat_minor": 0,
  "metadata": {
    "colab": {
      "provenance": [],
      "authorship_tag": "ABX9TyNejXMYiJ3RneEd4JaxBPIJ",
      "include_colab_link": true
    },
    "kernelspec": {
      "name": "python3",
      "display_name": "Python 3"
    },
    "language_info": {
      "name": "python"
    }
  },
  "cells": [
    {
      "cell_type": "markdown",
      "metadata": {
        "id": "view-in-github",
        "colab_type": "text"
      },
      "source": [
        "<a href=\"https://colab.research.google.com/github/TasnimTamanna02/Python/blob/100days0fPythonWithHarry/KBC.ipynb\" target=\"_parent\"><img src=\"https://colab.research.google.com/assets/colab-badge.svg\" alt=\"Open In Colab\"/></a>"
      ]
    },
    {
      "cell_type": "markdown",
      "source": [
        "# KBC\n",
        "Kaun Banega Crorepati"
      ],
      "metadata": {
        "id": "h8nprkZmXnbJ"
      }
    },
    {
      "cell_type": "markdown",
      "source": [
        "**First Solution**"
      ],
      "metadata": {
        "id": "0NofxmxGLtBu"
      }
    },
    {
      "cell_type": "code",
      "source": [
        "def QuestionLaunch(**QA):\n",
        "  print(QA['question'])\n",
        "  print(QA['option1'],QA['option2'],QA['option3'])\n",
        "  UserAnswer=input(\"Enter your answer: \")\n",
        "  if(UserAnswer==QA['answer']):\n",
        "    print('Congratulations! You are correct!')\n",
        "    return True\n",
        "  else:\n",
        "    print(\"Oh no! You are wrong!\")\n",
        "    return False\n",
        "\n",
        "MoneyGained=0\n",
        "\n",
        "firstQuestion= QuestionLaunch(question='Who is the richest man in India?', option1='a. Rajeesh Khanna', option2='b. Shahrukh Khan', option3='c.Mukhesh Ambani', answer='c')\n",
        "if(firstQuestion== True):\n",
        "  MoneyGained+=10000\n",
        "  secondQuestion= QuestionLaunch(question='Who is a singer?', option1='a. Anushka Sharma', option2='b. Shreya Ghosal', option3='c. Dipika Padukon', answer='b')\n",
        "  if(secondQuestion== True):\n",
        "   MoneyGained+=10000\n",
        "   ThirdQuestion= QuestionLaunch(question='Who is the biggest joke of the entertainment industry?', option1='a. Kapil Sharma', option2='b. Salman Khan', option3='c.Neha kankkar', answer='b')\n",
        "   if(ThirdQuestion== True):\n",
        "    MoneyGained+=10000\n",
        "\n",
        "print('You have Earned ',MoneyGained)\n"
      ],
      "metadata": {
        "id": "FczcGlx9JLDR"
      },
      "execution_count": null,
      "outputs": []
    },
    {
      "cell_type": "markdown",
      "source": [
        "**Second Solution**"
      ],
      "metadata": {
        "id": "Gvdvl7MBKffA"
      }
    },
    {
      "cell_type": "code",
      "source": [
        "def QuestionLaunch(**QA):\n",
        "  print(QA['question'])\n",
        "  print(QA['option1'],QA['option2'],QA['option3'])\n",
        "  UserAnswer=input(\"Enter your answer: \")\n",
        "  if(UserAnswer==QA['answer']):\n",
        "    print('Congratulations! You are correct!')\n",
        "    return True\n",
        "  else:\n",
        "    print(\"Oh no! You are wrong!\")\n",
        "    return False\n",
        "\n",
        "MoneyGained=0\n",
        "while(1):\n",
        " firstQuestion= QuestionLaunch(question='Who is the richest man in India?', option1='a. Rajeesh Khanna', option2='b. Shahrukh Khan', option3='c.Mukhesh Ambani', answer='c')\n",
        " if(firstQuestion== True):\n",
        "  MoneyGained+=10000\n",
        " else:\n",
        "  break\n",
        " secondQuestion= QuestionLaunch(question='Who is a singer?', option1='a. Anushka Sharma', option2='b. Shreya Ghosal', option3='c.Neha kankkar', answer='b')\n",
        " if(secondQuestion== True):\n",
        "  MoneyGained+=10000\n",
        " else:\n",
        "  break\n",
        " ThirdQuestion= QuestionLaunch(question='Who is the biggest joke of the entertainment industry?', option1='a. Kapil Sharma', option2='b. Salman Khan', option3='c.Neha kankkar', answer='b')\n",
        " if(ThirdQuestion== True):\n",
        "  MoneyGained+=10000\n",
        "  break\n",
        " else:\n",
        "  break\n",
        "print('You have Earned ',MoneyGained)\n"
      ],
      "metadata": {
        "colab": {
          "base_uri": "https://localhost:8080/"
        },
        "id": "I44nUXYjKcWZ",
        "outputId": "b1a309c5-197c-4333-8fcf-8ad9b5cbe984"
      },
      "execution_count": null,
      "outputs": [
        {
          "output_type": "stream",
          "name": "stdout",
          "text": [
            "Who is the richest man in India?\n",
            "a. Rajeesh Khanna b. Shahrukh Khan c.Mukhesh Ambani\n",
            "Enter your answer: c\n",
            "Congratulations! You are correct!\n",
            "Who is a singer?\n",
            "a. Anushka Sharma b. Shreya Ghosal c.Neha kankkar\n",
            "Enter your answer: b\n",
            "Congratulations! You are correct!\n",
            "Who is the biggest joke of the entertainment industry?\n",
            "a. Kapil Sharma b. Salman Khan c.Neha kankkar\n",
            "Enter your answer: b\n",
            "Congratulations! You are correct!\n",
            "You have Earned  30000\n"
          ]
        }
      ]
    }
  ]
}