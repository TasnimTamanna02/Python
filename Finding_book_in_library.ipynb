{
  "nbformat": 4,
  "nbformat_minor": 0,
  "metadata": {
    "colab": {
      "provenance": [],
      "authorship_tag": "ABX9TyNGHjP58fTQBcoCWAB1wtVM",
      "include_colab_link": true
    },
    "kernelspec": {
      "name": "python3",
      "display_name": "Python 3"
    },
    "language_info": {
      "name": "python"
    }
  },
  "cells": [
    {
      "cell_type": "markdown",
      "metadata": {
        "id": "view-in-github",
        "colab_type": "text"
      },
      "source": [
        "<a href=\"https://colab.research.google.com/github/TasnimTamanna02/Python/blob/main/Finding_book_in_library.ipynb\" target=\"_parent\"><img src=\"https://colab.research.google.com/assets/colab-badge.svg\" alt=\"Open In Colab\"/></a>"
      ]
    },
    {
      "cell_type": "markdown",
      "source": [
        "# A Book Finder that Tells At which Shelf of which Section it is located at"
      ],
      "metadata": {
        "id": "WtQ1Re1A1YF4"
      }
    },
    {
      "cell_type": "code",
      "execution_count": 6,
      "metadata": {
        "colab": {
          "base_uri": "https://localhost:8080/"
        },
        "id": "cdle8Imby7Fy",
        "outputId": "99a4b36e-99eb-47c4-bba0-938c51610684"
      },
      "outputs": [
        {
          "output_type": "stream",
          "name": "stdout",
          "text": [
            "Enter the title of the book you're looking for: 1984\n",
            "The book is located on shelf A2 in the Fiction section.\n"
          ]
        }
      ],
      "source": [
        "def find_book(book_title, library_data):\n",
        "\n",
        "  book_title = book_title.lower()  # Convert to lowercase for case-insensitive search\n",
        "  for section, shelves in library_data.items():\n",
        "    for shelf, books in shelves.items():\n",
        "      for title in books:\n",
        "        if title.lower() == book_title:  # Compare in lowercase\n",
        "          return section, shelf\n",
        "  return None  # Book not found\n",
        "\n",
        "\n",
        "#library data\n",
        "library = {\n",
        "    \"Fiction\": {\n",
        "        \"A1\": [\"The Lord of the Rings\", \"Pride and Prejudice\"],\n",
        "        \"A2\": [\"To Kill a Mockingbird\", \"1984\"],\n",
        "    },\n",
        "    \"Science\": {\n",
        "        \"B1\": [\"A Brief History of Time\", \"Cosmos\"],\n",
        "        \"B2\": [\"The Selfish Gene\", \"Sapiens\"],\n",
        "    },\n",
        "    \"History\": {\n",
        "        \"C1\": [\"Guns, Germs, and Steel\", \"The History of Rome\"],\n",
        "        \"C2\": [\"The Diary of a Young Girl\", \"A People's History of the United States\"],\n",
        "    },\n",
        "}\n",
        "\n",
        "# Search for a book\n",
        "book_to_find = input(\"Enter the title of the book you're looking for: \")\n",
        "location = find_book(book_to_find, library)\n",
        "\n",
        "if location:\n",
        "  section, shelf = location\n",
        "  print(f\"The book is located on shelf {shelf} in the {section} section.\")\n",
        "else:\n",
        "  print(\"Book not found in the library.\")"
      ]
    }
  ]
}