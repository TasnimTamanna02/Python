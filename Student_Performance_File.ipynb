{
  "nbformat": 4,
  "nbformat_minor": 0,
  "metadata": {
    "colab": {
      "provenance": [],
      "authorship_tag": "ABX9TyPTka9oue1RUjB3GCtwa5tc",
      "include_colab_link": true
    },
    "kernelspec": {
      "name": "python3",
      "display_name": "Python 3"
    },
    "language_info": {
      "name": "python"
    }
  },
  "cells": [
    {
      "cell_type": "markdown",
      "metadata": {
        "id": "view-in-github",
        "colab_type": "text"
      },
      "source": [
        "<a href=\"https://colab.research.google.com/github/TasnimTamanna02/Python/blob/main/Student_Performance_File.ipynb\" target=\"_parent\"><img src=\"https://colab.research.google.com/assets/colab-badge.svg\" alt=\"Open In Colab\"/></a>"
      ]
    },
    {
      "cell_type": "code",
      "source": [
        "# Step 1: Collect Student Data\n",
        "def get_student_data():\n",
        "  students={}\n",
        "  print(\"Enter student data- \")\n",
        "  while(True):\n",
        "    name= input(\"Enter student name, (type 'done' to finish): \")\n",
        "    if(name.lower()==\"done\"):\n",
        "      break\n",
        "    score= input(f\"Enter {name}'s scores, separated by coma: \")\n",
        "    students[name]=[int(score.strip()) for score in score.split(\",\")]\n",
        "  return students\n"
      ],
      "metadata": {
        "id": "tVznLluHWNnT"
      },
      "execution_count": null,
      "outputs": []
    },
    {
      "cell_type": "code",
      "source": [
        "# Step 2: Calculate Average Scores\n",
        "def caluculate_average(students):\n",
        "  averages={}\n",
        "  for name, score in students.items():\n",
        "    averages[name]= sum(score)/len(score)\n",
        "  return averages"
      ],
      "metadata": {
        "id": "UA-DMjP-Z0cD"
      },
      "execution_count": null,
      "outputs": []
    },
    {
      "cell_type": "code",
      "source": [
        "# Step 3: Find Highest-Scoring Student\n",
        "def find_top_student(averages,students):\n",
        "  top_student= max(averages, key=averages.get)\n",
        "  return top_student, averages[top_student]"
      ],
      "metadata": {
        "id": "KvcMMX6VbBeE"
      },
      "execution_count": null,
      "outputs": []
    },
    {
      "cell_type": "code",
      "source": [
        "# Step 4: Load Existing Data from File\n",
        "import os\n",
        "def load_existing_file(file_name):\n",
        "  students={}\n",
        "  averages={}\n",
        "  if not os.path.exists(file_name):\n",
        "    return {}, {}\n",
        "  with open(file_name, \"r\") as file:\n",
        "    lines= file.readlines()\n",
        "\n",
        "    for line in lines:\n",
        "      if \"Top_student\" in line:\n",
        "        continue\n",
        "      if \":\" in line:\n",
        "        name, rest= line.split(\":\",1)\n",
        "        name=name.strip()\n",
        "        if \"Average:\" in rest:\n",
        "          score, averages[name]= rest.split(\"Average:\")\n",
        "          students[name]=[int(score) for score in score.strip(\"[ ]\").split(\",\")]\n",
        "        else:\n",
        "          continue\n",
        "    return students, averages"
      ],
      "metadata": {
        "id": "JrSI5Ohifxys"
      },
      "execution_count": null,
      "outputs": []
    },
    {
      "cell_type": "code",
      "source": [
        "# Step 5: Save Data to File\n",
        "def save_to_file(file_name, students, averages, top_student, top_score):\n",
        "  with open(file_name, \"w\") as file:\n",
        "    file.write(\"Student Data\\n\")\n",
        "    for name, score in students.items():\n",
        "      file.write(f\"{name}:{score}  Average:{averages[name]:.2f}\\n\")\n",
        "    file.write(\" \")\n",
        "    file.write(f\"Top student:{top_student} with an average score of {top_score}\")\n",
        "  print(\"Data saved in file.\")"
      ],
      "metadata": {
        "id": "1WrBIE9MbYwV"
      },
      "execution_count": null,
      "outputs": []
    },
    {
      "cell_type": "code",
      "source": [
        "# Main Program Flow\n",
        "if(__name__==\"__main__\"):\n",
        "  file_name = \"student_performance.txt\"\n",
        "  existing_students, existing_averages= load_existing_file(file_name)\n",
        "\n",
        "  print(\"Existing Data loaded(if any exists). Add new data.\")\n",
        "  new_students= get_student_data()\n",
        "\n",
        "  if(new_students):\n",
        "      for name, score in new_students.items():\n",
        "        if(name in existing_students):\n",
        "          existing_students[name].extend(score)\n",
        "        else:\n",
        "          existing_students[name]= score\n",
        "      updated_averages= caluculate_average(existing_students)\n",
        "      top_student, top_score = find_top_student(existing_students,existing_averages)\n",
        "\n",
        "      save_to_file(file_name, existing_students, updated_averages, top_student, top_score)\n",
        "\n",
        "      print(\"Process completed successfully! Check 'student_performance.txt' for details\")\n",
        "  else:\n",
        "      print(\"No data loaded. Exiting Program.\")"
      ],
      "metadata": {
        "collapsed": true,
        "id": "1bEw_vQakqWk",
        "colab": {
          "base_uri": "https://localhost:8080/"
        },
        "outputId": "5ce357dc-64c8-402a-ad40-928c46821d93"
      },
      "execution_count": null,
      "outputs": [
        {
          "output_type": "stream",
          "name": "stdout",
          "text": [
            "Existing Data loaded(if any exists). Add new data.\n",
            "Enter student data- \n",
            "Enter student name, (type 'done' to finish): Sara\n",
            "Enter Sara's scores, separated by coma: 67,55,43\n",
            "Enter student name, (type 'done' to finish): done\n",
            "Data saved in file.\n",
            "Process completed successfully! Check 'student_performance.txt' for details\n"
          ]
        }
      ]
    }
  ]
}